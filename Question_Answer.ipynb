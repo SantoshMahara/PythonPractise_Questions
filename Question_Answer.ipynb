{
  "nbformat": 4,
  "nbformat_minor": 0,
  "metadata": {
    "colab": {
      "provenance": [],
      "authorship_tag": "ABX9TyO1jHnUBrkhBzRtxAmhviCp",
      "include_colab_link": true
    },
    "kernelspec": {
      "name": "python3",
      "display_name": "Python 3"
    },
    "language_info": {
      "name": "python"
    }
  },
  "cells": [
    {
      "cell_type": "markdown",
      "metadata": {
        "id": "view-in-github",
        "colab_type": "text"
      },
      "source": [
        "<a href=\"https://colab.research.google.com/github/SantoshMahara/PythonPractise_Questions/blob/main/Question_Answer.ipynb\" target=\"_parent\"><img src=\"https://colab.research.google.com/assets/colab-badge.svg\" alt=\"Open In Colab\"/></a>"
      ]
    },
    {
      "cell_type": "code",
      "execution_count": 1,
      "metadata": {
        "colab": {
          "base_uri": "https://localhost:8080/"
        },
        "id": "8xdDa8pCZbSc",
        "outputId": "de047556-6cea-421e-8b58-742aa7647869"
      },
      "outputs": [
        {
          "output_type": "stream",
          "name": "stdout",
          "text": [
            "Collecting PyPDF2\n",
            "  Downloading pypdf2-3.0.1-py3-none-any.whl (232 kB)\n",
            "\u001b[?25l     \u001b[90m━━━━━━━━━━━━━━━━━━━━━━━━━━━━━━━━━━━━━━━━\u001b[0m \u001b[32m0.0/232.6 kB\u001b[0m \u001b[31m?\u001b[0m eta \u001b[36m-:--:--\u001b[0m\r\u001b[2K     \u001b[91m━━━━━━━━━━━━━━━━━━━━━━━━━━━━━━━━━━━━━━\u001b[0m\u001b[91m╸\u001b[0m\u001b[90m━\u001b[0m \u001b[32m225.3/232.6 kB\u001b[0m \u001b[31m6.8 MB/s\u001b[0m eta \u001b[36m0:00:01\u001b[0m\r\u001b[2K     \u001b[90m━━━━━━━━━━━━━━━━━━━━━━━━━━━━━━━━━━━━━━━━\u001b[0m \u001b[32m232.6/232.6 kB\u001b[0m \u001b[31m5.3 MB/s\u001b[0m eta \u001b[36m0:00:00\u001b[0m\n",
            "\u001b[?25hInstalling collected packages: PyPDF2\n",
            "Successfully installed PyPDF2-3.0.1\n"
          ]
        }
      ],
      "source": [
        "!pip install PyPDF2"
      ]
    },
    {
      "cell_type": "code",
      "source": [
        "import PyPDF2\n",
        "import pandas as pd"
      ],
      "metadata": {
        "id": "lF5jI3rqZd-2"
      },
      "execution_count": 2,
      "outputs": []
    },
    {
      "cell_type": "code",
      "source": [
        "pdfFileObj = open('/content/sample_data/140_Basic_Python_Programs_1704340252.pdf', 'rb')\n",
        "pdfReader = PyPDF2.PdfReader(pdfFileObj)"
      ],
      "metadata": {
        "id": "F86J3mXMZqwa"
      },
      "execution_count": 3,
      "outputs": []
    },
    {
      "cell_type": "code",
      "source": [
        "print(len(pdfReader.pages))"
      ],
      "metadata": {
        "colab": {
          "base_uri": "https://localhost:8080/"
        },
        "id": "4e-6b5khaI31",
        "outputId": "f111fbea-d6a8-4252-a2e6-2409c79d0210"
      },
      "execution_count": 4,
      "outputs": [
        {
          "output_type": "stream",
          "name": "stdout",
          "text": [
            "96\n"
          ]
        }
      ]
    },
    {
      "cell_type": "code",
      "source": [
        "pageObj = pdfReader.pages[1]"
      ],
      "metadata": {
        "id": "HK_kPCXkaT4A"
      },
      "execution_count": 11,
      "outputs": []
    },
    {
      "cell_type": "markdown",
      "source": [],
      "metadata": {
        "id": "mVEeeHnpd0tc"
      }
    },
    {
      "cell_type": "code",
      "source": [
        "print(pageObj.extract_text())"
      ],
      "metadata": {
        "colab": {
          "base_uri": "https://localhost:8080/"
        },
        "id": "7dpa0b1VaXLH",
        "outputId": "50db56de-44ab-44ef-d494-dc90d6396300"
      },
      "execution_count": 12,
      "outputs": [
        {
          "output_type": "stream",
          "name": "stdout",
          "text": [
            "11/26/23, 4:53 AM Basic Python Program - Jupyter Notebook\n",
            "localhost:8888/notebooks/Piush Kumar Sharma/Basic Python Program.ipynb 1/95Program 1\n",
            "Write a Python program to print \"Hello Python\".\n",
            "In [1]:\n",
            "Program 2\n",
            "Write a Python program to do arithmetical operations addition and division.\n",
            "In [2]:\n",
            "In [3]:\n",
            "Program 3\n",
            "Write a Python program to find the area of a triangle.\n",
            "In [4]:Hello Python\n",
            "Enter the first number for addition: 5\n",
            "Enter the second number for addition: 6\n",
            "sum: 5.0 + 6.0 = 11.0\n",
            "Enter the dividend for division: 25\n",
            "Enter the divisor for division: 5\n",
            "Division: 25.0 / 5.0 = 5.0\n",
            "Enter the length of the base of the triangle: 10\n",
            "Enter the height of the triangle: 15\n",
            "The area of the triangle is: 75.0print(\"Hello Python\" )\n",
            "# Addition\n",
            "num1 = float(input(\"Enter the first number for addition: \" ))\n",
            "num2 = float(input(\"Enter the second number for addition: \" ))\n",
            "sum_result  = num1 + num2\n",
            "print(f\"sum: {num1} + {num2} = {sum_result }\")\n",
            "# Division\n",
            "num3 = float(input(\"Enter the dividend for division: \" ))\n",
            "num4 = float(input(\"Enter the divisor for division: \" ))\n",
            "if num4 == 0:\n",
            "    print(\"Error: Division by zero is not allowed.\" )\n",
            "else:\n",
            "    div_result  = num3 / num4\n",
            "    print(f\"Division: {num3} / {num4} = {div_result }\")\n",
            "# Input the base and height from the user\n",
            "base = float(input(\"Enter the length of the base of the triangle: \" ))\n",
            "height = float(input(\"Enter the height of the triangle: \" ))\n",
            "# Calculate the area of the triangle\n",
            "area = 0.5 * base * height\n",
            "# Display the result\n",
            "print(f\"The area of the triangle is: {area}\")1\n",
            "1\n",
            "2\n",
            "3\n",
            "4\n",
            "5\n",
            "1\n",
            "2\n",
            "3\n",
            "4\n",
            "5\n",
            "6\n",
            "7\n",
            "8\n",
            "1\n",
            "2\n",
            "3\n",
            "4\n",
            "5\n",
            "6\n",
            "7\n",
            "\n"
          ]
        }
      ]
    },
    {
      "cell_type": "markdown",
      "source": [
        "**Write a Python program to swap two variables.**"
      ],
      "metadata": {
        "id": "ekhtazr3dx1D"
      }
    },
    {
      "cell_type": "code",
      "source": [
        "x=5\n",
        "y=10\n",
        "x,y=y,x\n",
        "print(\"Find the Values of X=\",x)\n",
        "print(\"Find the Values of Y=\",y)\n"
      ],
      "metadata": {
        "colab": {
          "base_uri": "https://localhost:8080/"
        },
        "id": "J23T1IVXcowM",
        "outputId": "7e00bc38-826d-4541-ef0b-bddfb12bd022"
      },
      "execution_count": 21,
      "outputs": [
        {
          "output_type": "stream",
          "name": "stdout",
          "text": [
            "Find the Values of X= 10\n",
            "Find the Values of Y= 5\n"
          ]
        }
      ]
    },
    {
      "cell_type": "markdown",
      "source": [
        "**Write a Python program to swap two variables. whithout taking any other variable**"
      ],
      "metadata": {
        "id": "9Go2wYZUewVY"
      }
    },
    {
      "cell_type": "code",
      "source": [
        "a = input(\"Enter the value of the first variable (a): \")\n",
        "b = input(\"Enter the value of the second variable (b): \")\n",
        "\n",
        "print(f\"Original values: a = {a}, b = {b}\")\n",
        "\n",
        "temp = a\n",
        "a = b\n",
        "b = temp\n",
        "\n",
        "print(f\"Swapped values: a = {a}, b = {b}\")\n"
      ],
      "metadata": {
        "colab": {
          "base_uri": "https://localhost:8080/"
        },
        "id": "WYIboelscop7",
        "outputId": "08552db8-a9be-4286-a02f-71c04563fef7"
      },
      "execution_count": 22,
      "outputs": [
        {
          "output_type": "stream",
          "name": "stdout",
          "text": [
            "Enter the value of the first variable (a): 10\n",
            "Enter the value of the second variable (b): 5\n",
            "Original values: a = 10, b = 5\n",
            "Swapped values: a = 5, b = 10\n"
          ]
        }
      ]
    },
    {
      "cell_type": "markdown",
      "source": [
        "**Write a Python program to generate a random number. stating from 20 till 100(excluded)**"
      ],
      "metadata": {
        "id": "prNmU4rZix_v"
      }
    },
    {
      "cell_type": "code",
      "source": [
        "import random\n",
        "x= random.randint(20,100)\n",
        "if x>=20:\n",
        "  print(random.randint(1,19))\n",
        "else:\n",
        "  print(random.randint(25,90))\n"
      ],
      "metadata": {
        "colab": {
          "base_uri": "https://localhost:8080/"
        },
        "id": "XlEMIZYQcolI",
        "outputId": "a8919389-60d1-4cd0-fedd-af78223ab994"
      },
      "execution_count": 28,
      "outputs": [
        {
          "output_type": "stream",
          "name": "stdout",
          "text": [
            "16\n"
          ]
        }
      ]
    },
    {
      "cell_type": "markdown",
      "source": [
        "**Write a Python program to generate 25  random number. stating from 20 till 100(excluded)**"
      ],
      "metadata": {
        "id": "EdAbMCSTktN6"
      }
    },
    {
      "cell_type": "code",
      "source": [
        "print(random.sample(range(20, 100), 25))"
      ],
      "metadata": {
        "colab": {
          "base_uri": "https://localhost:8080/"
        },
        "id": "ik5g39MEcofN",
        "outputId": "11af393c-cc8f-491c-da64-a9b3671ffb77"
      },
      "execution_count": 29,
      "outputs": [
        {
          "output_type": "stream",
          "name": "stdout",
          "text": [
            "[48, 73, 69, 71, 92, 35, 68, 72, 29, 67, 32, 62, 70, 52, 81, 76, 85, 22, 31, 40, 94, 30, 90, 43, 89]\n"
          ]
        }
      ]
    },
    {
      "cell_type": "code",
      "source": [
        "rand=[]\n",
        "for i in random.sample(range(20,100),25):\n",
        "  if rand.count(i) < 25:\n",
        "    rand.append(i)\n",
        "print(rand, end=\" \")"
      ],
      "metadata": {
        "colab": {
          "base_uri": "https://localhost:8080/"
        },
        "id": "FiFEeGBOcoaW",
        "outputId": "5910a7c5-e688-4c17-d029-1bd37e18636d"
      },
      "execution_count": 51,
      "outputs": [
        {
          "output_type": "stream",
          "name": "stdout",
          "text": [
            "[75, 90, 28, 82, 73, 31, 40, 47, 93, 41, 95, 43, 39, 67, 81, 72, 60, 97, 44, 24, 65, 59, 87, 36, 91] "
          ]
        }
      ]
    },
    {
      "cell_type": "code",
      "source": [
        "a=[]\n",
        "for i in range(25):\n",
        "  if a.count(i) < 26:\n",
        "    a.append(i)\n",
        "print(a, end=\" \")"
      ],
      "metadata": {
        "colab": {
          "base_uri": "https://localhost:8080/"
        },
        "id": "GX04h1hQcoVs",
        "outputId": "e10041e0-04bb-4b66-f403-c6dd05eaa9ee"
      },
      "execution_count": 53,
      "outputs": [
        {
          "output_type": "stream",
          "name": "stdout",
          "text": [
            "[0, 1, 2, 3, 4, 5, 6, 7, 8, 9, 10, 11, 12, 13, 14, 15, 16, 17, 18, 19, 20, 21, 22, 23, 24] "
          ]
        }
      ]
    },
    {
      "cell_type": "code",
      "source": [
        "for _ in range(24):\n",
        "  print(random.randint(21,99), end=' ')"
      ],
      "metadata": {
        "colab": {
          "base_uri": "https://localhost:8080/"
        },
        "id": "fqWgybmDcoRp",
        "outputId": "5db75b94-fbfa-4458-e2ae-5923a8c265d2"
      },
      "execution_count": 54,
      "outputs": [
        {
          "output_type": "stream",
          "name": "stdout",
          "text": [
            "95 36 35 95 93 37 22 59 95 27 56 49 64 31 70 79 21 37 98 46 28 33 59 58 "
          ]
        }
      ]
    },
    {
      "cell_type": "code",
      "source": [
        "for i in range(20, 100):\n",
        "     y = random.randrange(9)\n",
        "     print(y, end=\" \")"
      ],
      "metadata": {
        "colab": {
          "base_uri": "https://localhost:8080/"
        },
        "id": "ED03OzgWqy1l",
        "outputId": "bf180d40-f7c7-4f92-c392-db38c646f362"
      },
      "execution_count": 57,
      "outputs": [
        {
          "output_type": "stream",
          "name": "stdout",
          "text": [
            "6 2 3 8 0 8 8 4 6 5 6 2 0 7 0 3 8 0 7 3 7 8 2 3 1 5 7 1 8 5 6 7 0 5 8 3 7 5 4 0 4 5 5 6 1 1 2 2 7 0 7 3 7 7 7 2 4 2 5 1 2 4 0 8 3 5 7 1 8 4 6 5 1 6 1 0 3 4 7 8 "
          ]
        }
      ]
    },
    {
      "cell_type": "code",
      "source": [
        "rand = [random.randint(0, 100) for x in range(1, 25)]\n",
        "print(rand)"
      ],
      "metadata": {
        "colab": {
          "base_uri": "https://localhost:8080/"
        },
        "id": "98L70KY1qywc",
        "outputId": "28b19c37-fd95-4b27-ba38-732680c510a1"
      },
      "execution_count": 59,
      "outputs": [
        {
          "output_type": "stream",
          "name": "stdout",
          "text": [
            "[4, 28, 80, 73, 29, 17, 3, 61, 40, 33, 95, 29, 15, 17, 41, 42, 50, 100, 11, 100, 16, 18, 78, 7]\n"
          ]
        }
      ]
    },
    {
      "cell_type": "code",
      "source": [
        "print( [random.randint(21, 99) for x in range(1, 26)])"
      ],
      "metadata": {
        "colab": {
          "base_uri": "https://localhost:8080/"
        },
        "id": "-uCaeCvgqysi",
        "outputId": "c1840f08-4628-4b3d-862e-c81adec846c9"
      },
      "execution_count": 61,
      "outputs": [
        {
          "output_type": "stream",
          "name": "stdout",
          "text": [
            "[78, 84, 41, 97, 78, 69, 54, 66, 75, 33, 41, 31, 50, 26, 28, 93, 71, 70, 84, 59, 70, 74, 67, 69, 28]\n"
          ]
        }
      ]
    },
    {
      "cell_type": "markdown",
      "source": [
        "**Write a Python program to find the hypotenuse of a triangle with side 15 and height 21**"
      ],
      "metadata": {
        "id": "D1ur48HPuKhj"
      }
    },
    {
      "cell_type": "code",
      "source": [
        "import math"
      ],
      "metadata": {
        "id": "s89535nCqyge"
      },
      "execution_count": 62,
      "outputs": []
    },
    {
      "cell_type": "code",
      "source": [
        "s=15\n",
        "h=21\n",
        "hypo=math.sqrt(s**2 + h**2)\n",
        "print(hypo)\n"
      ],
      "metadata": {
        "colab": {
          "base_uri": "https://localhost:8080/"
        },
        "id": "3guNcoPdqyY_",
        "outputId": "ff922dce-9515-4f35-9989-7b189823c641"
      },
      "execution_count": 67,
      "outputs": [
        {
          "output_type": "stream",
          "name": "stdout",
          "text": [
            "25.80697580112788\n"
          ]
        }
      ]
    },
    {
      "cell_type": "markdown",
      "source": [
        "**Write a Python program to convert kilometers to miles.**"
      ],
      "metadata": {
        "id": "u33WEdPgv0Ks"
      }
    },
    {
      "cell_type": "code",
      "source": [
        "# Conversion factor: 1 kilometer = 0.621371 miles\n",
        "# Taking kilometers input from the user\n",
        "Kilomt = float(input(\"Enter Distance Value in kilometers: \"))\n",
        "con_fact=0.621371\n",
        "miles = Kilomt * con_fact\n",
        "print((Kilomt, miles))"
      ],
      "metadata": {
        "colab": {
          "base_uri": "https://localhost:8080/"
        },
        "id": "7g13GAw0qyVv",
        "outputId": "ddb5f084-58b3-4e38-9170-1502036c3d9b"
      },
      "execution_count": 75,
      "outputs": [
        {
          "output_type": "stream",
          "name": "stdout",
          "text": [
            "Enter Distance Value in kilometers: 20.2\n",
            "(20.2, 12.5516942)\n"
          ]
        }
      ]
    },
    {
      "cell_type": "markdown",
      "source": [
        "**Write a Python program to convert Fahrenheit to Celsius. **\n",
        "\n",
        "Conversion formula: Fahrenheit = (Celsius * 9/5) + 32"
      ],
      "metadata": {
        "id": "zj4HS7XJyAZX"
      }
    },
    {
      "cell_type": "code",
      "source": [
        "Celsius=float(input('Enter Celsius to convert fohrenheit :'))\n",
        "#Celsius = 0.621371\n",
        "print(f'Temprature in Fahrenheit:{(Celsius * 9/5) + 32}')"
      ],
      "metadata": {
        "colab": {
          "base_uri": "https://localhost:8080/"
        },
        "id": "IqToRUdNqyRe",
        "outputId": "73cb7197-e3df-40b3-c4ba-0d2a698f31ff"
      },
      "execution_count": 78,
      "outputs": [
        {
          "output_type": "stream",
          "name": "stdout",
          "text": [
            "Enter Celsius to convert fohrenheit :37\n",
            "Temprature in Fahrenheit:98.6\n"
          ]
        }
      ]
    },
    {
      "cell_type": "code",
      "source": [
        "x=  float(input('Enter temperature in Fahrenheit :'))\n",
        "print(f'Temperature in celsius : {(x-32)*(5/9)}')"
      ],
      "metadata": {
        "colab": {
          "base_uri": "https://localhost:8080/"
        },
        "id": "Ty2_oYlgqyNJ",
        "outputId": "e5fd9b74-fe8f-4921-ef9a-462c37bddf90"
      },
      "execution_count": 80,
      "outputs": [
        {
          "output_type": "stream",
          "name": "stdout",
          "text": [
            "Enter temperature in Fahrenheit :98.6\n",
            "Temperature in celsius : 37.0\n"
          ]
        }
      ]
    },
    {
      "cell_type": "code",
      "source": [],
      "metadata": {
        "id": "8jSPRwGxqyI6"
      },
      "execution_count": 80,
      "outputs": []
    },
    {
      "cell_type": "code",
      "source": [],
      "metadata": {
        "id": "Fz5OMO3UcoMN"
      },
      "execution_count": null,
      "outputs": []
    },
    {
      "cell_type": "code",
      "source": [],
      "metadata": {
        "id": "k2WysZV5aZlY"
      },
      "execution_count": null,
      "outputs": []
    }
  ]
}